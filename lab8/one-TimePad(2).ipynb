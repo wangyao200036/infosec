{
 "cells": [
  {
   "cell_type": "code",
   "execution_count": 15,
   "id": "73083144-6e11-42f5-805f-df13e43e7794",
   "metadata": {},
   "outputs": [
    {
     "name": "stdout",
     "output_type": "stream",
     "text": [
      "C1: d591c7cfdedce7624598d996f3d62e4ddb0ca0e0d483c6f6def6e76b44aed8ac1365cffc\n",
      "C2: d59ec7dedefbe76044a5d8aef2ea2e43db0ba1d0d5b4c7c4def6e76244abd9bff2e72f75db08a0e4\n",
      "P1 После расшифровки: НаВашисходящийот1204\n",
      "P2 После расшифровки: ВСеверныйфилиалБанка\n"
     ]
    }
   ],
   "source": [
    "import os\n",
    "\n",
    "def xor_strings(s1, s2):\n",
    "\n",
    "    return bytes([a ^ b for a, b in zip(s1, s2)])\n",
    "\n",
    "# ключ\n",
    "key = bytes.fromhex('050C177F0E4E37D29410092E2257FFC80BB27054')\n",
    "\n",
    "# Исходное сообщение\n",
    "p1 = 'НаВашисходящийот1204'.encode('utf-8')\n",
    "p2 = 'ВСеверныйфилиалБанка'.encode('utf-8')\n",
    "\n",
    "# Цикл XOR-обработки\n",
    "def encrypt_decrypt(message, key):\n",
    "\n",
    "    key_length = len(key)\n",
    "    message_length = len(message)\n",
    "    extended_key = (key * (message_length // key_length)) + key[:message_length % key_length]\n",
    "    return xor_strings(message, extended_key)\n",
    "\n",
    "# Процесс шифрования\n",
    "c1 = encrypt_decrypt(p1, key)\n",
    "c2 = encrypt_decrypt(p2, key)\n",
    "\n",
    "# Процесс расшифровки\n",
    "p1_decrypted = encrypt_decrypt(c1, key).decode('utf-8')\n",
    "p2_decrypted = encrypt_decrypt(c2, key).decode('utf-8')\n",
    "\n",
    "# результаты печати\n",
    "print(f\"C1: {c1.hex()}\")\n",
    "print(f\"C2: {c2.hex()}\")\n",
    "print(f\"P1 После расшифровки: {p1_decrypted}\")\n",
    "print(f\"P2 После расшифровки: {p2_decrypted}\")"
   ]
  },
  {
   "cell_type": "code",
   "execution_count": null,
   "id": "62624e8a-32cf-485b-92bc-3210e2f80fd6",
   "metadata": {},
   "outputs": [],
   "source": []
  }
 ],
 "metadata": {
  "kernelspec": {
   "display_name": "Python 3 (ipykernel)",
   "language": "python",
   "name": "python3"
  },
  "language_info": {
   "codemirror_mode": {
    "name": "ipython",
    "version": 3
   },
   "file_extension": ".py",
   "mimetype": "text/x-python",
   "name": "python",
   "nbconvert_exporter": "python",
   "pygments_lexer": "ipython3",
   "version": "3.12.4"
  }
 },
 "nbformat": 4,
 "nbformat_minor": 5
}
