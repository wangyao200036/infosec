{
 "cells": [
  {
   "cell_type": "code",
   "execution_count": 54,
   "id": "1d5e84e3-9b19-465f-98af-913fe8690642",
   "metadata": {},
   "outputs": [
    {
     "name": "stdout",
     "output_type": "stream",
     "text": [
      "ciphertext: А\u0012ЮЊЇѽЄ\u0019ЫЏІЍЈ\u0019\u0016ЌѹѻІѾѼ\u0015\n",
      "plaintext: С Новым Годом, друзья!\n",
      "key: 1234568981234568981234\n"
     ]
    }
   ],
   "source": [
    "def xor_strings(s1, s2):\n",
    "\n",
    "    return ''.join(chr(ord(a) ^ ord(b)) for a, b in zip(s1, (b for b in s2 * (len(s1) // len(s2) + 1))))\n",
    "\n",
    "def encrypt(plaintext, key):\n",
    "\n",
    "    return xor_strings(plaintext, key)\n",
    "\n",
    "def decrypt(ciphertext, key):\n",
    "\n",
    "    return xor_strings(ciphertext, key)\n",
    "\n",
    "def find_key_for_plaintext(ciphertext, target_plaintext):\n",
    "    \n",
    "    return xor_strings(ciphertext, target_plaintext)\n",
    "\n",
    "if __name__ == \"__main__\":\n",
    "    # Известная информация\n",
    "    known_plaintext = \"С Новым Годом, друзья!\"\n",
    "    known_key = \"123456898\"\n",
    "    #Предположим, у нас есть известный ключ \n",
    "    # Процесс шифрования\n",
    "    plaintext_bytes = known_plaintext.encode('utf-8')\n",
    "    key_bytes = known_key.encode('utf-8')\n",
    "    ciphertext_bytes = xor_strings(plaintext_bytes.decode('utf-8'), key_bytes.decode('utf-8')).encode('utf-8')\n",
    "    ciphertext = ciphertext_bytes.decode('utf-8')\n",
    "    print(f\"ciphertext: {ciphertext}\")\n",
    "\n",
    "    # Процесс расшифровки\n",
    "    decrypted_text_bytes = xor_strings(ciphertext, key_bytes.decode('utf-8')).encode('utf-8')\n",
    "    decrypted_text = decrypted_text_bytes.decode('utf-8')\n",
    "    print(f\"plaintext: {decrypted_text}\")\n",
    "\n",
    "    # Найдите ключ, необходимый для определенного открытого текста\n",
    "    target_plaintext = \"С Новым Годом, друзья!\"\n",
    "    found_key_bytes = xor_strings(ciphertext, target_plaintext).encode('utf-8')\n",
    "    found_key = found_key_bytes.decode('utf-8')\n",
    "    print(f\"key: {found_key}\")"
   ]
  },
  {
   "cell_type": "code",
   "execution_count": null,
   "id": "838a07ca-d6bf-4d4c-8836-09840ca7593d",
   "metadata": {},
   "outputs": [],
   "source": []
  }
 ],
 "metadata": {
  "kernelspec": {
   "display_name": "Python 3 (ipykernel)",
   "language": "python",
   "name": "python3"
  },
  "language_info": {
   "codemirror_mode": {
    "name": "ipython",
    "version": 3
   },
   "file_extension": ".py",
   "mimetype": "text/x-python",
   "name": "python",
   "nbconvert_exporter": "python",
   "pygments_lexer": "ipython3",
   "version": "3.12.4"
  }
 },
 "nbformat": 4,
 "nbformat_minor": 5
}
